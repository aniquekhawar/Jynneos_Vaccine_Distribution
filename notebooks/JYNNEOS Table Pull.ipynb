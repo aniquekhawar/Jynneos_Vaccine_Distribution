{
 "cells": [
  {
   "cell_type": "code",
   "execution_count": 1,
   "metadata": {},
   "outputs": [],
   "source": [
    "import pandas as pd"
   ]
  },
  {
   "cell_type": "code",
   "execution_count": 8,
   "metadata": {},
   "outputs": [
    {
     "name": "stdout",
     "output_type": "stream",
     "text": [
      "2022-08-11 20:57\n"
     ]
    }
   ],
   "source": [
    "import pandas as pd\n",
    "\n",
    "# grab today\n",
    "today_timestamp = pd.Timestamp.now(tz='US/Eastern')\n",
    "today_str = today_timestamp.strftime('%Y-%m-%d')\n",
    "last_updated_time = today_timestamp.strftime('%Y-%m-%d %H:%M')\n",
    "\n",
    "# get data\n",
    "url = 'https://aspr.hhs.gov/SNS/Pages/JYNNEOS-Distribution.aspx'\n",
    "df = pd.read_html(url)[0]\n",
    "\n",
    "# rename columns\n",
    "replace_tuple = [('Total Requestedas', 'Total Requested as'), ('Total Shippedas', 'Total Shipped as')]\n",
    "for old_text, new_text in replace_tuple:\n",
    "    df.columns = df.columns.str.replace(old_text, new_text)\n",
    "\n",
    "# update last updated field\n",
    "df['Last Updated'] = last_updated_time\n",
    "\n",
    "# save to CSV\n",
    "df.to_csv(f'data/JYNNEOS_vaccine_distribution_{today_str}.csv', index = False)\n",
    "df.to_csv(f'data/JYNNEOS_vaccine_distribution_latest.csv', index = False)"
   ]
  }
 ],
 "metadata": {
  "kernelspec": {
   "display_name": "Python 3.9.3 64-bit",
   "language": "python",
   "name": "python3"
  },
  "language_info": {
   "codemirror_mode": {
    "name": "ipython",
    "version": 3
   },
   "file_extension": ".py",
   "mimetype": "text/x-python",
   "name": "python",
   "nbconvert_exporter": "python",
   "pygments_lexer": "ipython3",
   "version": "3.9.3"
  },
  "orig_nbformat": 4,
  "vscode": {
   "interpreter": {
    "hash": "b74c9f4955e1edb508227b265953ce002e5306892a22b07a4fdf5f5709a69309"
   }
  }
 },
 "nbformat": 4,
 "nbformat_minor": 2
}

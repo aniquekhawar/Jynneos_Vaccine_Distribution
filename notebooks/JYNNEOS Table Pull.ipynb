{
 "cells": [
  {
   "cell_type": "code",
   "execution_count": 6,
   "metadata": {},
   "outputs": [],
   "source": [
    "import pandas as pd\n",
    "import urllib.request"
   ]
  },
  {
   "cell_type": "code",
   "execution_count": 17,
   "metadata": {},
   "outputs": [],
   "source": [
    "today = pd.Timestamp.now(tz='US/Eastern').strftime('%Y-%m-%d')\n",
    "url = 'https://aspr.hhs.gov/SNS/Pages/JYNNEOS-Distribution.aspx'\n",
    "df = pd.read_html(url)[0]\n",
    "replace_dict = {'Total Requested': 'Total Requested '}\n",
    "df.columns = df.columns.str.replace('Total Requested', 'Total Requested ')\n",
    "df.to_csv(f'data/JYNNEOS_vaccine_distribution_{today}.csv', index = False)"
   ]
  }
 ],
 "metadata": {
  "kernelspec": {
   "display_name": "Python 3.9.3 64-bit",
   "language": "python",
   "name": "python3"
  },
  "language_info": {
   "codemirror_mode": {
    "name": "ipython",
    "version": 3
   },
   "file_extension": ".py",
   "mimetype": "text/x-python",
   "name": "python",
   "nbconvert_exporter": "python",
   "pygments_lexer": "ipython3",
   "version": "3.9.3"
  },
  "orig_nbformat": 4,
  "vscode": {
   "interpreter": {
    "hash": "b74c9f4955e1edb508227b265953ce002e5306892a22b07a4fdf5f5709a69309"
   }
  }
 },
 "nbformat": 4,
 "nbformat_minor": 2
}
